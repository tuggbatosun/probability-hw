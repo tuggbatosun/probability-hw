{
  "nbformat": 4,
  "nbformat_minor": 0,
  "metadata": {
    "colab": {
      "name": "Permutation.ipynb",
      "provenance": [],
      "authorship_tag": "ABX9TyMAmX2G+OaQxMWwl3kST8vk",
      "include_colab_link": true
    },
    "kernelspec": {
      "name": "python3",
      "display_name": "Python 3"
    },
    "language_info": {
      "name": "python"
    }
  },
  "cells": [
    {
      "cell_type": "markdown",
      "metadata": {
        "id": "view-in-github",
        "colab_type": "text"
      },
      "source": [
        "<a href=\"https://colab.research.google.com/github/tuggbatosun/probability-hw/blob/main/Permutation.ipynb\" target=\"_parent\"><img src=\"https://colab.research.google.com/assets/colab-badge.svg\" alt=\"Open In Colab\"/></a>"
      ]
    },
    {
      "cell_type": "markdown",
      "metadata": {
        "id": "06FrEzfiMroJ"
      },
      "source": [
        "Soru:\n",
        "\n",
        "\"KELİMELER\" kelimesindeki harflerin yerleri değistirilerek E harfi ile başlayan 9 harfli anlamlı ya da anlamsız kaç farklı kelime yazılabilir?\n",
        "\n",
        "Çözüm:\n",
        "\n",
        "E ile başlıyor \n",
        "\n",
        "kalan harf 8 yani 8! olur tekrar eden harflere böleriz .\n",
        "\n",
        "tekrar edenler 2 tane E harfi ve 2 tane L harfi\n",
        "\n",
        "8! / 2! x 2! olur.\n",
        "\n",
        "8 x 7! / (2! x 2!) \n",
        "\n",
        "2. 7! = 10080 kelime yazılır."
      ]
    },
    {
      "cell_type": "code",
      "metadata": {
        "colab": {
          "base_uri": "https://localhost:8080/"
        },
        "id": "p8osswQ-Mr3J",
        "outputId": "43025093-620c-4050-925c-d42ec004617b"
      },
      "source": [
        "def faktoriyelHesapla(i):\n",
        "    if i == 1:\n",
        "        return 1\n",
        "    else:\n",
        "        return i * faktoriyelHesapla(i - 1)\n",
        "\n",
        "toplamHarf = 8\n",
        "tekrarEden = 2\n",
        "\n",
        "sonuc = faktoriyelHesapla(toplamHarf) / (faktoriyelHesapla(tekrarEden) * faktoriyelHesapla(tekrarEden))\n",
        "\n",
        "print(\"\",sonuc,\"farklı kelime yazılır.\")\n"
      ],
      "execution_count": 2,
      "outputs": [
        {
          "output_type": "stream",
          "text": [
            " 10080.0 farklı kelime yazılır.\n"
          ],
          "name": "stdout"
        }
      ]
    }
  ]
}