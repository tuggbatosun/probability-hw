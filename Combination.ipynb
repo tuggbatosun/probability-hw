{
  "nbformat": 4,
  "nbformat_minor": 0,
  "metadata": {
    "colab": {
      "name": "Combination.ipynb",
      "provenance": [],
      "authorship_tag": "ABX9TyNVjmuKvdovkerncs5OkQVx",
      "include_colab_link": true
    },
    "kernelspec": {
      "name": "python3",
      "display_name": "Python 3"
    },
    "language_info": {
      "name": "python"
    }
  },
  "cells": [
    {
      "cell_type": "markdown",
      "metadata": {
        "id": "view-in-github",
        "colab_type": "text"
      },
      "source": [
        "<a href=\"https://colab.research.google.com/github/tuggbatosun/probability-hw/blob/main/Combination.ipynb\" target=\"_parent\"><img src=\"https://colab.research.google.com/assets/colab-badge.svg\" alt=\"Open In Colab\"/></a>"
      ]
    },
    {
      "cell_type": "markdown",
      "metadata": {
        "id": "0g5VPAQ1JzDh"
      },
      "source": [
        "Soru:\n",
        "\n",
        "A = {a,b,c,d,e,f,g} kümesinin 4 elemanlı alt kümelerinin kaç tanesinde b elemanı bulunmaz, e elemanı bulunur. b'nin bulunmayıp e'nin bulunma olasılığı nedir?\n",
        "\n",
        "Çözüm:\n",
        "\n",
        "4 elemanlı sayıları oluşturmak için A kümesinden b elemanını atalım, e elemanını ise 4 elemanlı alt kümeye yerleştirelim. Yeni A = {a,c,d,f,g} olacak ve alt küme ihtiyacı 3 elemana düşecektir. Bu durumda çözüm 5 elemanlı kümenin 3 elemanlı alt kümeleri olur.\n",
        "C(5 3) = (5.4.3!)/(2!.3!) = 10\n",
        "\n",
        "A kümesinin tüm elemanlarının bulunduğu listeden 4 elemanlı alt küme oluşturmak istersek.\n",
        "C(7 4) = (7.6.5.4!)/(4!.3!) = 35\n",
        "b bulunmayıp e bulunma olasılığı %28,57 olur."
      ]
    },
    {
      "cell_type": "code",
      "metadata": {
        "colab": {
          "base_uri": "https://localhost:8080/"
        },
        "id": "EXTMlhbHJzPJ",
        "outputId": "e28f28b1-4091-4864-8faa-9643247bfaee"
      },
      "source": [
        "from itertools import combinations\n",
        "# A kümesinin tüm elemanlarının tanımlanması\n",
        "A_list = ('a','b','c','d','e','f','g')\n",
        "# 4 elemanlı alt kümelerin oluşturulması\n",
        "comb1 = combinations(A_list, 4)\n",
        "\n",
        "# b ve e elemanı çıkarıldı.\n",
        "A_list2 = ('a','c','d','f','g')\n",
        "# 3 elemanlı alt kümeler oluşturuldu e var.\n",
        "comb2 = combinations(A_list2, 3)\n",
        "\n",
        "# alt küme sayacı\n",
        "c1 = 0\n",
        "c2 = 0\n",
        "\n",
        "for i in list(comb1):\n",
        "  c1 += 1\n",
        "\n",
        "for i in list(comb2):\n",
        "  c2 += 1\n",
        "  print('{',i[0],i[1],i[2],'e','}')\n",
        "\n",
        "print('b bulunmayan e bulunan alt kümenin gelme olasılığı ',round((c2/c1)*100,2))"
      ],
      "execution_count": 2,
      "outputs": [
        {
          "output_type": "stream",
          "text": [
            "{ a c d e }\n",
            "{ a c f e }\n",
            "{ a c g e }\n",
            "{ a d f e }\n",
            "{ a d g e }\n",
            "{ a f g e }\n",
            "{ c d f e }\n",
            "{ c d g e }\n",
            "{ c f g e }\n",
            "{ d f g e }\n",
            "b bulunmayan e bulunan alt kümenin gelme olasılığı  28.57\n"
          ],
          "name": "stdout"
        }
      ]
    }
  ]
}