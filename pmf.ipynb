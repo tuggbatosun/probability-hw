{
  "nbformat": 4,
  "nbformat_minor": 0,
  "metadata": {
    "colab": {
      "name": "pmf.ipynb",
      "provenance": [],
      "authorship_tag": "ABX9TyMGte4wBtvSDKFsuiTQIrGU",
      "include_colab_link": true
    },
    "kernelspec": {
      "name": "python3",
      "display_name": "Python 3"
    },
    "language_info": {
      "name": "python"
    }
  },
  "cells": [
    {
      "cell_type": "markdown",
      "metadata": {
        "id": "view-in-github",
        "colab_type": "text"
      },
      "source": [
        "<a href=\"https://colab.research.google.com/github/tuggbatosun/probability-hw/blob/main/pmf.ipynb\" target=\"_parent\"><img src=\"https://colab.research.google.com/assets/colab-badge.svg\" alt=\"Open In Colab\"/></a>"
      ]
    },
    {
      "cell_type": "markdown",
      "metadata": {
        "id": "ChvHfDRLHg7l"
      },
      "source": [
        "Soru: \n",
        "\n",
        "f(x) = CX^2                                     \n",
        "\n",
        "X = 1,2,3\n",
        "\n",
        "C sabitini belirlediğinizde fonksiyon olasılık kütle fonksiyonu olacaktır.\n",
        "\n",
        "Çözüm:\n",
        "\n",
        "∑ f(X) = ∑ CX^2 = C.∑ X^2      X = 1,2,3\n",
        "\n",
        "= C[1^2 + 2^2 + 3^2] \n",
        "\n",
        "C = 1/4 = 0.0714\n",
        "\n",
        "f(X) = 1/4.X^2\n",
        "\n",
        "f(1) = 0.0714\n",
        "\n",
        "f(2) = 0.2857\n",
        "\n",
        "f(3) = 0.6429\n"
      ]
    },
    {
      "cell_type": "code",
      "metadata": {
        "colab": {
          "base_uri": "https://localhost:8080/",
          "height": 330
        },
        "id": "Jt9ZlOUtHhbV",
        "outputId": "32114a65-7ca9-42d3-e74f-081371b82439"
      },
      "source": [
        "import math\n",
        "import matplotlib.pyplot as plt\n",
        "import numpy as np\n",
        "\n",
        "#fX = c*(X^X) #probability mass function\n",
        "i=1\n",
        "toplam =0\n",
        "while i<=3:\n",
        "    toplam += (i*i) \n",
        "    i += 1  \n",
        "\n",
        "C = 1/toplam\n",
        "print(\"C sabiti: \", format(C, '.4f'))\n",
        "\n",
        "j=1\n",
        "while j<=3:\n",
        "  fX = C* (j*j)\n",
        "  print('fX(', j, ') = ', format(fX, '.4f'))\n",
        "  plt.bar(j,fX)\n",
        "  j+=1\n",
        "\n",
        "plt.show()"
      ],
      "execution_count": 2,
      "outputs": [
        {
          "output_type": "stream",
          "text": [
            "C sabiti:  0.0714\n",
            "fX( 1 ) =  0.0714\n",
            "fX( 2 ) =  0.2857\n",
            "fX( 3 ) =  0.6429\n"
          ],
          "name": "stdout"
        },
        {
          "output_type": "display_data",
          "data": {
            "image/png": "[encoded data removed]",
            "text/plain": [
              "<Figure size 432x288 with 1 Axes>"
            ]
          },
          "metadata": {
            "tags": [],
            "needs_background": "light"
          }
        }
      ]
    },
    {
      "cell_type": "code",
      "metadata": {
        "id": "9JfWVyAxaQjJ"
      },
      "source": [
        ""
      ],
      "execution_count": null,
      "outputs": []
    }
  ]
}