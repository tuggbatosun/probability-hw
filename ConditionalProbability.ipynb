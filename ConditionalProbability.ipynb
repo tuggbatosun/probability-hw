{
  "nbformat": 4,
  "nbformat_minor": 0,
  "metadata": {
    "colab": {
      "name": "ConditionalProbability.ipynb",
      "provenance": [],
      "collapsed_sections": [],
      "authorship_tag": "ABX9TyPDShuUzm+ZF0HZ3odSq9eH",
      "include_colab_link": true
    },
    "kernelspec": {
      "name": "python3",
      "display_name": "Python 3"
    },
    "language_info": {
      "name": "python"
    }
  },
  "cells": [
    {
      "cell_type": "markdown",
      "metadata": {
        "id": "view-in-github",
        "colab_type": "text"
      },
      "source": [
        "<a href=\"https://colab.research.google.com/github/tuggbatosun/probability-hw/blob/main/ConditionalProbability.ipynb\" target=\"_parent\"><img src=\"https://colab.research.google.com/assets/colab-badge.svg\" alt=\"Open In Colab\"/></a>"
      ]
    },
    {
      "cell_type": "markdown",
      "metadata": {
        "id": "KB80mrnH90IB"
      },
      "source": [
        "**Soru:**\n",
        "\n",
        "Bir fabrikadaki günlük üretimin 0,60'ı A makinesinde, geri kalanı B makinesinde \n",
        "üretilmektedir. A makinesinde üretilen parçaların 0,03'ü, B makinesinde üretilen \n",
        "parçaların 0,02'si kusurludur. Bir günlük üretimin sonunda rastgele seçilen bir\n",
        "parçanın kusurlu olduğu bilindiğine göre, bu parçanın B makinesinde üretilmiş olma olasılığı nedir?\n",
        "\n",
        "**Çözüm:**\n",
        "\n",
        "**Koşullu olasılık:**\n",
        "\n",
        "P(A) : A olayının gerçekleşme olasılığı \n",
        "\n",
        "P(B) : B olayının gerçekleşme olasılığı \n",
        "\n",
        "P(A∩B) : A ve B olaylarının gerçekleşme olasılığı\n",
        "\n",
        "P(A/B) = P(A∩B) / P(B)  : B olayının gerçekleşmesi koşulu altında A olayının olma olasılığı\n",
        "\n",
        "ürün -> 6/10 A makinesinde üretim -> 3/100 bozuk\n",
        "     -> 4/10 B makinesinde üretim -> 2/100 bozuk\n",
        "\n",
        "Koşullu olasılık = istenen durum / tüm durumlar\n",
        "                 = (4/10 x 2/100) / (6/10 x 3/100) + (4/10 x 2/100) \n",
        "                 = 4/13\n",
        "\n",
        "  "
      ]
    },
    {
      "cell_type": "code",
      "metadata": {
        "colab": {
          "base_uri": "https://localhost:8080/"
        },
        "id": "kMpQA6mC90WY",
        "outputId": "712e0d00-e4af-451e-8d8d-cdaefbf39663"
      },
      "source": [
        "makineA = 6/10       # A daki günlük üretim\n",
        "makineB = 4/10       # B deki günlük üretim\n",
        "\n",
        "hataA = 3/100        # A daki hata oranı\n",
        "hataB = 2/100        # B deki hata oranı\n",
        "\n",
        "pA =  makineA * hataA\n",
        "pB =  makineB * hataB\n",
        "\n",
        "pO = pB / (pA + pB)\n",
        "\n",
        "print(\"Parçanın B makinesinde üretilmiş olma olasılığı:\",format(pO, '.3f'))\n",
        "\n"
      ],
      "execution_count": 1,
      "outputs": [
        {
          "output_type": "stream",
          "text": [
            "Parçanın B makinesinde üretilmiş olma olasılığı: 0.308\n"
          ],
          "name": "stdout"
        }
      ]
    }
  ]
}